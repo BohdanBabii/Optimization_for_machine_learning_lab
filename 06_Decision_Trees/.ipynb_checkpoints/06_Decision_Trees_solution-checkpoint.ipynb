{
 "cells": [
  {
   "cell_type": "markdown",
   "id": "aaacd30f",
   "metadata": {},
   "source": [
    "# Exercise 6 - Decision Trees\n",
    "\n",
    "In this exercise we will implement a decision tree classifier and evaluate its performance.\n",
    "\n",
    "In the event of a persistent problem, do not hesitate to contact the course instructor under\n",
    "\n",
    "- paul.kahlmeyer@uni-jena.de\n",
    "\n",
    "### Submission\n",
    "- Deadline of submission:\n",
    "        24.05.23 23:59\n",
    "- Submission on [moodle page](https://moodle.uni-jena.de/course/view.php?id=43681)\n",
    "\n",
    "\n",
    "### Help\n",
    "In case you cannot solve a task, you can use the saved values within the `help` directory:\n",
    "- Load arrays with [Numpy](https://numpy.org/doc/stable/reference/generated/numpy.load.html)\n",
    "```\n",
    "np.load('help/array_name.npy')\n",
    "```\n",
    "- Load functions with [Dill](https://dill.readthedocs.io/en/latest/dill.html)\n",
    "```\n",
    "import dill\n",
    "with open('help/some_func.pkl', 'rb') as f:\n",
    "    func = dill.load(f)\n",
    "```\n",
    "\n",
    "to continue working on the other tasks."
   ]
  },
  {
   "cell_type": "code",
   "execution_count": 1,
   "id": "4fc9acc9",
   "metadata": {},
   "outputs": [],
   "source": [
    "# General\n",
    "from tqdm import tqdm\n",
    "import matplotlib.pyplot as plt\n",
    "import numpy as np\n",
    "import math\n",
    "import pandas as pd"
   ]
  },
  {
   "cell_type": "markdown",
   "id": "2aff8a5f",
   "metadata": {},
   "source": [
    "# Dataset\n",
    "\n",
    "Here we will use a synthetic dataset for binary classification created with scikit learn (see [here](https://scikit-learn.org/stable/modules/generated/sklearn.datasets.make_classification.html))."
   ]
  },
  {
   "cell_type": "markdown",
   "id": "19ddaa33",
   "metadata": {},
   "source": [
    "### Task 1\n",
    "\n",
    "Load and display the data located in `X.npy` and `y.npy`."
   ]
  },
  {
   "cell_type": "code",
   "execution_count": 2,
   "id": "0055264d",
   "metadata": {},
   "outputs": [
    {
     "data": {
      "text/plain": [
       "<matplotlib.collections.PathCollection at 0x1c7d871eaf0>"
      ]
     },
     "execution_count": 2,
     "metadata": {},
     "output_type": "execute_result"
    },
    {
     "data": {
      "image/png": "[encoded data removed]",
      "text/plain": [
       "<Figure size 432x288 with 1 Axes>"
      ]
     },
     "metadata": {
      "needs_background": "light"
     },
     "output_type": "display_data"
    }
   ],
   "source": [
    "# TODO: load and display data\n",
    "X = np.load('X.npy')\n",
    "y = np.load('y.npy')\n",
    "plt.scatter(X[:, 0], X[:, 1], c = y, cmap = 'bwr')"
   ]
  },
  {
   "cell_type": "markdown",
   "id": "6643a5fb",
   "metadata": {},
   "source": [
    "# Decision Trees\n",
    "\n",
    "Decision trees are data structures, where at each level we make a decision about a feature and at the lowest level we have a decision for a class. For example, consider the following decision tree:\n",
    "<div>\n",
    "<img src=\"images/decision_tree.png\" width=\"800\"/>\n",
    "</div>\n",
    "You can think of a datapoint trickling down starting at the root and ending up in one of the leaf nodes that assign a class label.\n",
    "\n",
    "That is, learning a decision tree involves learning which question to ask at which node.\n",
    "\n",
    "## Learning\n",
    "\n",
    "Usually we want to select questions in a way that \"unmix\" the labels of a dataset the best.\n",
    "\n",
    "As an example, consider a dataset like this:\n",
    "\n",
    "`X = [1, 2, 3, 4]`, `y = [0, 0, 1, 1]`\n",
    "\n",
    "Here, we could ask the question: \"$X\\leq 1$?\", which would split the dataset into \n",
    "\n",
    "`X1 = [1]`, `y1 = [0]` and \n",
    "\n",
    "`X2 = [2, 3, 4]`, `y2 = [0, 1, 1]`.\n",
    "\n",
    "looking at the labels of the resulting datasets `y1` and `y2`, we can see that `y1` is nicely unmixed (contains only labels of one class). However `y2` is not unmixed.\n",
    "\n",
    "A better question would be to ask: \"$X\\leq 2$?\", in which case we would get\n",
    "\n",
    "`X1 = [1, 2]`, `y1 = [0, 0]` and \n",
    "\n",
    "`X2 = [3, 4]`, `y2 = [1, 1]`.\n",
    "\n",
    "Here both `y1` and `y2` are perfectly unmixed.\n",
    "\n",
    "There are many ways to quantify the \"unmixing\" property of a dataset. For decision trees however a popular choice is the [**Gini-Impurity**](https://en.wikipedia.org/wiki/Decision_tree_learning#Gini_impurity). It measures the probability that we would missclasify a sample if we classified according to the distribution of labels.\n",
    "\n",
    "Let $p_i$ be the relative frequency of class $i$ in the dataset with labels $y$, then the Gini-Impurity is defined as\n",
    "\n",
    "\\begin{align*}\n",
    "I_G(y) = 1 - \\sum_i p_i^2\\,.\n",
    "\\end{align*}\n",
    "\n",
    "In the following figure we can see the Gini-Impurity for binary classification problems depending on the relative frequency $p_0$ of class 0: \n",
    "<div>\n",
    "<img src=\"images/gini.png\" width=\"500\"/>\n",
    "</div>\n",
    "If we have a perfectly unmixed dataset, the Gini-Impurity is 0. The maximum value is 0.5 if we have the same amount of both labels. Recall that for decision trees we want to split a dataset into subsets of low Gini-Impurity."
   ]
  },
  {
   "cell_type": "markdown",
   "id": "5ad491da",
   "metadata": {},
   "source": [
    "### Task 2\n",
    "\n",
    "Implement the following function and calculate the Gini-Impurity for the labels of the dataset."
   ]
  },
  {
   "cell_type": "code",
   "execution_count": 3,
   "id": "02d7cba0",
   "metadata": {},
   "outputs": [
    {
     "data": {
      "text/plain": [
       "0.49992800000000004"
      ]
     },
     "execution_count": 3,
     "metadata": {},
     "output_type": "execute_result"
    }
   ],
   "source": [
    "def gini_imp(y : np.ndarray) -> float:\n",
    "    '''\n",
    "    Calculates Gini-Impurity for binary labels.\n",
    "    \n",
    "    @Params:\n",
    "        y... labels in {0, 1}\n",
    "        \n",
    "    @Returns: \n",
    "        Gini-Impurity\n",
    "    '''\n",
    "    # TODO: implement\n",
    "    p1 = np.mean(y)\n",
    "    p0 = 1 - p1\n",
    "    return 1 - (p0**2 + p1**2)\n",
    "\n",
    "# TODO: Gini-Impurity on dataset\n",
    "gini_imp(y)"
   ]
  },
  {
   "cell_type": "markdown",
   "id": "73b45178",
   "metadata": {},
   "source": [
    "We want to use the Gini-Impurity to evaluate how good a splitting of a dataset is. For this we simply calculate a weighted sum of the impurities of the individual splits. Let $y_0, y_1$ be splits of a dataset $y$. Then we simply compute the score\n",
    "\n",
    "\\begin{align*}\n",
    "S(y_0, y_1) = \\cfrac{|y_0|}{|y_0| + |y_1|}I_G(y_0) + \\cfrac{|y_1|}{|y_0| + |y_1|}I_G(y_1)\\,.\n",
    "\\end{align*}\n",
    "\n",
    "That is we weight each the individual impurities with the size of the splits."
   ]
  },
  {
   "cell_type": "markdown",
   "id": "46b09d50",
   "metadata": {},
   "source": [
    "### Task 3\n",
    "\n",
    "Implement the following function and calculate the score if we would split the dataset according to the question \"$x_0 \\leq 0$?\"."
   ]
  },
  {
   "cell_type": "code",
   "execution_count": 4,
   "id": "f3b3d7bf",
   "metadata": {},
   "outputs": [
    {
     "data": {
      "text/plain": [
       "0.21925534616082165"
      ]
     },
     "execution_count": 4,
     "metadata": {},
     "output_type": "execute_result"
    }
   ],
   "source": [
    "def gini_imp_split(y0 : np.ndarray, y1 : np.ndarray) -> float:\n",
    "    '''\n",
    "    Weighted Gini-Impurity for a split into two sets of labels (binary classification).\n",
    "    \n",
    "    @Params:\n",
    "        y0... label set\n",
    "        y1... label set\n",
    "    \n",
    "    @Returns:\n",
    "        Impurity score (lower = better)\n",
    "    '''\n",
    "    # TODO: implement\n",
    "    w0 = len(y0)/(len(y0) + len(y1))\n",
    "    w1 = 1 - w0\n",
    "    return w0*gini_imp(y0) + w1*gini_imp(y1)\n",
    "\n",
    "\n",
    "# TODO: calculate score for split x0 <= 0\n",
    "mask = X[:, 0] <= 0\n",
    "y0 = y[mask]\n",
    "y1 = y[~mask]\n",
    "gini_imp_split(y0, y1)"
   ]
  },
  {
   "cell_type": "markdown",
   "id": "3414a371",
   "metadata": {},
   "source": [
    "Now the challenge is to find the index and the value that produces the lowest score ($\\rightarrow$ best split).\n",
    "For decision trees we do this in three steps:\n",
    "\n",
    "1. Iterate trough all $x\\in X$ and all dimensions $i$. Let $x_i = v$ be the value that we observe.\n",
    "2. Score the split according to \"$x_i \\leq v$?\".\n",
    "3. Report dimension $i$ and value $v$ of best score\n",
    "\n",
    "In practice we do not use the value $v$ but rather the average of $v$ and the first value for $x_i$ that is $> v$. \n",
    "\n",
    "As an example, if we identified $x_0 \\leq 1.5$ as the best split, we will look for the lowest value of $x_0$ that is $>1.5$ and report the mean of those two values. Lets say this next greater value is $1.6$, then we will report index 0 and value $0.5(1.5 + 1.6) = 1.55$. This way we draw the decision boundary between the datapoints rather than on the datapoints."
   ]
  },
  {
   "cell_type": "markdown",
   "id": "c69bc2a8",
   "metadata": {},
   "source": [
    "### Task 4\n",
    "\n",
    "Implement the following function that searches for the best split of a dataset.\n",
    "\n",
    "Use this function to identify the best split of our dataset."
   ]
  },
  {
   "cell_type": "code",
   "execution_count": 5,
   "id": "77554644",
   "metadata": {},
   "outputs": [
    {
     "data": {
      "text/plain": [
       "(0, -0.15385073614765354, 0.19709883984704135)"
      ]
     },
     "execution_count": 5,
     "metadata": {},
     "output_type": "execute_result"
    }
   ],
   "source": [
    "def best_split(X : np.ndarray, y : np.ndarray) -> tuple:\n",
    "    '''\n",
    "    Identifies the best split of a dataset according to Gini-Impurity.\n",
    "    \n",
    "    @Params:\n",
    "        X... samples\n",
    "        y... labels\n",
    "        \n",
    "    @Returns:\n",
    "        triple (index, value, Gini-Score) of split\n",
    "    '''\n",
    "    # TODO: implement\n",
    "    best_idx = 0\n",
    "    best_v = 0\n",
    "    best_gi = 1.0\n",
    "    for x in X:\n",
    "        for i, v in enumerate(x):\n",
    "            mask = X[:, i] <= v\n",
    "            y_lower = y[mask]\n",
    "            y_upper = y[~mask]\n",
    "\n",
    "            if (len(y_lower) > 0) and (len(y_upper) > 0): \n",
    "                gi = gini_imp_split(y_lower, y_upper)\n",
    "                if gi < best_gi:\n",
    "                    best_gi = gi\n",
    "                    best_idx = i\n",
    "                    best_v = v\n",
    "    # value = avg with next best point (lowest value that is not <=)\n",
    "    v2 = np.min(X[(X[:, best_idx] > best_v), best_idx])\n",
    "    return best_idx, 0.5*(best_v + v2), best_gi\n",
    "\n",
    "# TODO: find best split for dataset\n",
    "idx, v, gi = best_split(X, y)\n",
    "idx, v, gi"
   ]
  },
  {
   "cell_type": "markdown",
   "id": "47207eb4",
   "metadata": {},
   "source": [
    "With this functionality we have everything to recursively build up a decision tree.\n",
    "\n",
    "Each node in the tree has the following attributes:\n",
    "\n",
    "- `X`, `y`, `gi`: part of the dataset that is passed to the node\n",
    "- `depth`, `max_depth`: depth of the node in the tree as well as the maximum depth of the tree\n",
    "\n",
    "And can perform the following operations:\n",
    "\n",
    "- `split`: if not already pure or at `max_depth`, finds the best split of its dataset and creates two child nodes (+1 depth)\n",
    "- `predict` : given a dataset predicts labels accoding to its children (or according to its labels if we have no children)"
   ]
  },
  {
   "cell_type": "markdown",
   "id": "2718548f",
   "metadata": {},
   "source": [
    "### Task 5\n",
    "\n",
    "Implement the following `Node` class which implements the functionality of a single node. \n",
    "\n",
    "Use the provided `DecisionTree` class to learn and print a decision tree on our dataset."
   ]
  },
  {
   "cell_type": "code",
   "execution_count": 11,
   "id": "7b035704",
   "metadata": {},
   "outputs": [
    {
     "data": {
      "text/plain": [
       "x_0 <= -0.15385073614765354?\n",
       "\tx_1 <= 1.2240952599987902?\n",
       "\t\t0.08235294117647059\n",
       "\telse:\n",
       "\t\t1.0\n",
       "\n",
       "else:\n",
       "\tx_0 <= 0.3295256957451717?\n",
       "\t\t0.7567567567567568\n",
       "\telse:\n",
       "\t\t0.9783783783783784\n",
       "\n"
      ]
     },
     "execution_count": 11,
     "metadata": {},
     "output_type": "execute_result"
    }
   ],
   "source": [
    "class Node():\n",
    "        \n",
    "    def __init__(self, X : np.ndarray, y : np.ndarray, depth : int, max_depth : int):\n",
    "        '''\n",
    "        Constructor for a node.\n",
    "        \n",
    "        @Params:\n",
    "            X... samples\n",
    "            y... labels\n",
    "            depth... depth of this node in the tree\n",
    "            max_depth... maximum depth of any node in the tree\n",
    "        '''\n",
    "        # TODO: implement\n",
    "        self.X = X\n",
    "        self.y = y\n",
    "        self.depth = depth\n",
    "        self.max_depth = max_depth\n",
    "        \n",
    "        self.gi = gini_imp(self.y)\n",
    "        self.split_idx = None\n",
    "        self.split_value = None\n",
    "        self.left = None\n",
    "        self.right = None\n",
    "        \n",
    "        \n",
    "        \n",
    "    def split(self):\n",
    "        '''\n",
    "        Creates child nodes if labels are not already pure.\n",
    "        '''\n",
    "        # TODO: implement\n",
    "        tmp = np.sum(self.y)/len(self.y)\n",
    "        \n",
    "        if (self.depth < self.max_depth) and (tmp < 1) and (tmp > 0):\n",
    "            best_idx, best_v, best_gi = best_split(self.X, self.y)\n",
    "            self.split_idx = best_idx\n",
    "            self.split_value = best_v\n",
    "            \n",
    "            mask = self.X[:, best_idx] <= best_v\n",
    "            self.left = Node(self.X[mask], self.y[mask], self.depth+1, self.max_depth)\n",
    "            self.right = Node(self.X[~mask], self.y[~mask], self.depth+1, self.max_depth)\n",
    "            self.left.split()\n",
    "            self.right.split()\n",
    "           \n",
    "        \n",
    "    def predict(self, X : np.ndarray) -> np.ndarray:\n",
    "        '''\n",
    "        Predicts labels for samples.\n",
    "        \n",
    "        @Params:\n",
    "            X... samples\n",
    "            \n",
    "        @Returns:\n",
    "            predicted labels by this node\n",
    "        '''\n",
    "        # TODO: implement\n",
    "        if self.split_idx is None:\n",
    "            return int(np.mean(self.y) > 0.5)*np.ones(len(X))\n",
    "        else:\n",
    "            pred = np.ones(len(X))\n",
    "            mask = (X[:, self.split_idx] <= self.split_value)\n",
    "            pred[mask] = self.left.predict(X[mask])\n",
    "            pred[~mask] = self.right.predict(X[~mask])\n",
    "            return pred\n",
    "            \n",
    "        \n",
    "    def __repr__(self) -> str:\n",
    "        '''\n",
    "        String representation of the node.\n",
    "        \n",
    "        @Returns:\n",
    "            a string that represents the subtree with this node as root.\n",
    "            Something like \n",
    "            x0 < 1.5?\n",
    "                str(child1)\n",
    "            else\n",
    "                str(child2)\n",
    "            \n",
    "        '''\n",
    "        # TODO: implement\n",
    "        ident_str = '\\t' * self.depth \n",
    "        if self.split_idx is not None:    \n",
    "            ret = f'{ident_str}x_{self.split_idx} <= {self.split_value}?\\n'\n",
    "            ret += str(self.left)\n",
    "            ret += f'{ident_str}else:\\n'\n",
    "            ret += str(self.right)\n",
    "            ret += '\\n'\n",
    "        else:\n",
    "            ret = f'{ident_str}{np.mean(self.y)}\\n'\n",
    "        return ret\n",
    "\n",
    "\n",
    "class DecisionTree():\n",
    "    '''\n",
    "    Provided. A wrapper class for the root of the decision tree.\n",
    "    This will give you an idea of how the Node class is used.\n",
    "    '''\n",
    "    \n",
    "    def __init__(self, max_depth : int = np.inf):\n",
    "        '''\n",
    "        Constructor of decision tree.\n",
    "        \n",
    "        @Params:\n",
    "            max_depth... maximum depth of any node in the tree\n",
    "        '''\n",
    "        self.root = None\n",
    "        self.max_depth = max_depth\n",
    "        \n",
    "    def fit(self, X : np.ndarray, y : np.ndarray):\n",
    "        '''\n",
    "        Learns the nodes of the decision tree.\n",
    "        \n",
    "        @Params:\n",
    "            X... samples\n",
    "            y... labels\n",
    "        '''\n",
    "        self.root = Node(X, y, 0, self.max_depth)\n",
    "        self.root.split()\n",
    "        \n",
    "    def predict(self, X : np.ndarray) -> np.ndarray:\n",
    "        '''\n",
    "        Predicts labels for samples.\n",
    "        \n",
    "        @Params:\n",
    "            X... samples\n",
    "        '''\n",
    "        return self.root.predict(X)\n",
    "    \n",
    "    def __repr__(self) -> str:\n",
    "        '''\n",
    "        String representation of the tree.\n",
    "        '''\n",
    "        return str(self.root)\n",
    "    \n",
    "# TODO: learn + print decision tree\n",
    "dt = DecisionTree(max_depth = 2)\n",
    "dt.fit(X, y)\n",
    "dt"
   ]
  },
  {
   "cell_type": "markdown",
   "id": "3793c9d7",
   "metadata": {},
   "source": [
    "### Task 6\n",
    "\n",
    "Calculate the accuracy of the decision tree on the dataset and visualize the decision boundary.\n",
    "\n",
    "You can use `utils.plot_dec_boundary` for the visualization."
   ]
  },
  {
   "cell_type": "code",
   "execution_count": 12,
   "id": "45411f4f",
   "metadata": {},
   "outputs": [
    {
     "name": "stdout",
     "output_type": "stream",
     "text": [
      "Accuracy: 0.932\n"
     ]
    },
    {
     "data": {
      "image/png": "[encoded data removed]",
      "text/plain": [
       "<Figure size 432x288 with 1 Axes>"
      ]
     },
     "metadata": {
      "needs_background": "light"
     },
     "output_type": "display_data"
    }
   ],
   "source": [
    "# TODO: accuracy and decision boundary\n",
    "import utils\n",
    "\n",
    "acc = np.mean(dt.predict(X) == y)\n",
    "print(f'Accuracy: {acc}')\n",
    "\n",
    "utils.plot_dec_boundary(X, y, dt)"
   ]
  },
  {
   "cell_type": "markdown",
   "id": "87a61294",
   "metadata": {},
   "source": [
    "### Task 7\n",
    "\n",
    "Use the [scikit learn implementation](https://scikit-learn.org/stable/modules/generated/sklearn.tree.DecisionTreeClassifier.html) to learn a decision tree with the same maximum depth as your tree from Task 5.\n",
    "\n",
    "Compare the decision boundary, accuracy and the internal parameters to those of your own implementation."
   ]
  },
  {
   "cell_type": "code",
   "execution_count": 13,
   "id": "69c72115",
   "metadata": {},
   "outputs": [],
   "source": [
    "# TODO: use scikit learn implementation\n",
    "from sklearn.tree import DecisionTreeClassifier\n",
    "dt_sklearn = DecisionTreeClassifier(max_depth = 2).fit(X, y)"
   ]
  },
  {
   "cell_type": "code",
   "execution_count": 14,
   "id": "7b62116a",
   "metadata": {},
   "outputs": [
    {
     "data": {
      "image/png": "[encoded data removed]",
      "text/plain": [
       "<Figure size 432x288 with 2 Axes>"
      ]
     },
     "metadata": {
      "needs_background": "light"
     },
     "output_type": "display_data"
    }
   ],
   "source": [
    "# TODO: compare decision boundary\n",
    "fig, axs = plt.subplots(ncols = 2)\n",
    "utils.plot_dec_boundary(X, y, dt, axs[0])\n",
    "axs[0].set_title('Custom Tree')\n",
    "utils.plot_dec_boundary(X, y, dt_sklearn, axs[1])\n",
    "axs[1].set_title('Sklearn')\n",
    "plt.show()"
   ]
  },
  {
   "cell_type": "code",
   "execution_count": 15,
   "id": "0354163a",
   "metadata": {},
   "outputs": [
    {
     "name": "stdout",
     "output_type": "stream",
     "text": [
      "Accuracy: 0.932\n"
     ]
    }
   ],
   "source": [
    "# TODO: compare accuracy\n",
    "acc = np.mean(dt_sklearn.predict(X) == y)\n",
    "print(f'Accuracy: {acc}')"
   ]
  },
  {
   "cell_type": "code",
   "execution_count": 16,
   "id": "5c942572",
   "metadata": {
    "scrolled": false
   },
   "outputs": [
    {
     "data": {
      "image/png": "[encoded data removed]",
      "text/plain": [
       "<Figure size 432x288 with 1 Axes>"
      ]
     },
     "metadata": {
      "needs_background": "light"
     },
     "output_type": "display_data"
    }
   ],
   "source": [
    "# TODO: compare parameters\n",
    "from sklearn import tree\n",
    "tree.plot_tree(dt_sklearn)\n",
    "plt.show()"
   ]
  },
  {
   "cell_type": "markdown",
   "id": "f4d3a726",
   "metadata": {},
   "source": [
    "## Influence of Tree depth\n",
    "\n",
    "Now we want to investigate the influence of the maximum tree depth on the classification accuracy."
   ]
  },
  {
   "cell_type": "markdown",
   "id": "facc6c52",
   "metadata": {},
   "source": [
    "### Task 8\n",
    "\n",
    "Split the dataset into train- and testdata and plot the train- and test accuracy for an increasing maximum tree depth.\n",
    "\n",
    "You can use the scikit learn implementation or your own."
   ]
  },
  {
   "cell_type": "code",
   "execution_count": 18,
   "id": "b433273d",
   "metadata": {},
   "outputs": [
    {
     "name": "stderr",
     "output_type": "stream",
     "text": [
      "100%|█████████████████████████████████████████████████████████████████████████████████| 10/10 [00:00<00:00, 649.16it/s]\n"
     ]
    },
    {
     "data": {
      "image/png": "[encoded data removed]",
      "text/plain": [
       "<Figure size 432x288 with 1 Axes>"
      ]
     },
     "metadata": {
      "needs_background": "light"
     },
     "output_type": "display_data"
    }
   ],
   "source": [
    "# TODO: plot train and test accuracy for increasing tree depth\n",
    "\n",
    "from sklearn.model_selection import train_test_split\n",
    "X_train, X_test, y_train, y_test = train_test_split(X, y, test_size=0.33, random_state=42)\n",
    "\n",
    "depths = np.arange(1, 11, 1)\n",
    "train_acc = []\n",
    "test_acc = []\n",
    "for depth in tqdm(depths):\n",
    "    dt = DecisionTreeClassifier(max_depth = depth, random_state = 0).fit(X_train, y_train)\n",
    "    \n",
    "    acc = np.mean(dt.predict(X_train) == y_train)\n",
    "    train_acc.append(acc)\n",
    "    \n",
    "    acc = np.mean(dt.predict(X_test) == y_test)\n",
    "    test_acc.append(acc)\n",
    "    \n",
    "plt.plot(depths, train_acc, label = 'train')\n",
    "plt.plot(depths, test_acc, label = 'test')\n",
    "plt.xlabel('maximum depth')\n",
    "plt.ylabel('accuracy')\n",
    "plt.legend()\n",
    "plt.show()"
   ]
  },
  {
   "cell_type": "markdown",
   "id": "3b2b47ef",
   "metadata": {},
   "source": [
    "### Task 9\n",
    "\n",
    "In your own words, describe the influence of the maximum tree depth."
   ]
  },
  {
   "cell_type": "markdown",
   "id": "46ce54e2",
   "metadata": {},
   "source": [
    "<font color='red'>TODO:</font> write"
   ]
  },
  {
   "cell_type": "markdown",
   "id": "48d135cf",
   "metadata": {},
   "source": [
    "## Just for me"
   ]
  },
  {
   "cell_type": "code",
   "execution_count": null,
   "id": "9293c7ad",
   "metadata": {},
   "outputs": [],
   "source": [
    "# data\n",
    "from sklearn.datasets import make_classification\n",
    "X, y = make_classification(n_samples=500, n_features=2, n_classes=2, n_clusters_per_class=2, class_sep=0.95, random_state=3, n_redundant = 0)\n",
    "np.save('X.npy', X)\n",
    "np.save('y.npy', y)"
   ]
  },
  {
   "cell_type": "code",
   "execution_count": null,
   "id": "1605b0ae",
   "metadata": {},
   "outputs": [],
   "source": [
    "# saving functions\n",
    "import dill\n",
    "import os\n",
    "import numpy as np\n",
    "\n",
    "dill.settings['recurse'] = True\n",
    "\n",
    "\n",
    "if not os.path.exists('help'):\n",
    "    os.mkdir('help')\n",
    "\n",
    "with open('help/gini_imp.pkl', 'wb') as f:\n",
    "    dill.dump(gini_imp, f)\n",
    "\n",
    "with open('help/gini_imp_split.pkl', 'wb') as f:\n",
    "    dill.dump(gini_imp_split, f)\n",
    "\n",
    "with open('help/best_split.pkl', 'wb') as f:\n",
    "    dill.dump(best_split, f)\n",
    "    \n",
    "with open('help/Node.pkl', 'wb') as f:\n",
    "    dill.dump(Node, f)\n",
    "    "
   ]
  }
 ],
 "metadata": {
  "interpreter": {
   "hash": "b39a671858085d70125f4f28cb6256d6037eab582b2bde2ee45c6eac63f37da5"
  },
  "kernelspec": {
   "display_name": "Python 3 (ipykernel)",
   "language": "python",
   "name": "python3"
  },
  "language_info": {
   "codemirror_mode": {
    "name": "ipython",
    "version": 3
   },
   "file_extension": ".py",
   "mimetype": "text/x-python",
   "name": "python",
   "nbconvert_exporter": "python",
   "pygments_lexer": "ipython3",
   "version": "3.11.4"
  }
 },
 "nbformat": 4,
 "nbformat_minor": 5
}
