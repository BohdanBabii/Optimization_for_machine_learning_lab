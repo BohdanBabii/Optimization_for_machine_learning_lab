{
 "cells": [
  {
   "cell_type": "markdown",
   "id": "aaacd30f",
   "metadata": {},
   "source": [
    "# Exercise 6 - Decision Trees\n",
    "\n",
    "In this exercise we will implement a decision tree classifier and evaluate its performance.\n",
    "\n",
    "In the event of a persistent problem, do not hesitate to contact the course instructor under\n",
    "\n",
    "- paul.kahlmeyer@uni-jena.de\n",
    "- maurice.wenig@uni-jena.de\n",
    "\n",
    "### Submission\n",
    "- Deadline of submission:\n",
    "28.05.2024 23:59\n",
    "- Submission on [moodle page](https://moodle.uni-jena.de/course/view.php?id=54249)\n",
    "\n",
    "\n",
    "### Help\n",
    "In case you cannot solve a task, you can use the saved values within the `help` directory:\n",
    "- Load arrays with [Numpy](https://numpy.org/doc/stable/reference/generated/numpy.load.html)\n",
    "```\n",
    "np.load('help/array_name.npy')\n",
    "```\n",
    "- Load functions with [Dill](https://dill.readthedocs.io/en/latest/dill.html)\n",
    "```\n",
    "import dill\n",
    "with open('help/some_func.pkl', 'rb') as f:\n",
    "    func = dill.load(f)\n",
    "```\n",
    "\n",
    "to continue working on the other tasks."
   ]
  },
  {
   "cell_type": "markdown",
   "id": "2aff8a5f",
   "metadata": {},
   "source": [
    "# Dataset\n",
    "\n",
    "Here we will use a synthetic dataset for binary classification created with scikit learn (see [here](https://scikit-learn.org/stable/modules/generated/sklearn.datasets.make_classification.html))."
   ]
  },
  {
   "cell_type": "markdown",
   "id": "19ddaa33",
   "metadata": {},
   "source": [
    "### Task 1\n",
    "\n",
    "Load and display the data located in `X.npy` and `y.npy`."
   ]
  },
  {
   "cell_type": "code",
   "execution_count": 65,
   "id": "0055264d",
   "metadata": {},
   "outputs": [],
   "source": [
    "import numpy as np\n",
    "# TODO: load and display data\n",
    "X, y = np.load(\"X.npy\"), np.load(\"y.npy\")"
   ]
  },
  {
   "cell_type": "markdown",
   "id": "6643a5fb",
   "metadata": {},
   "source": [
    "# Decision Trees\n",
    "\n",
    "Decision trees are data structures, where at each level we make a decision about a feature and at the lowest level we have a decision for a class. For example, consider the following decision tree:\n",
    "<div>\n",
    "<img src=\"images/decision_tree.png\" width=\"800\"/>\n",
    "</div>\n",
    "You can think of a datapoint trickling down starting at the root and ending up in one of the leaf nodes that assign a class label.\n",
    "\n",
    "That is, learning a decision tree involves learning which question to ask at which node.\n",
    "\n",
    "## Learning\n",
    "\n",
    "Usually we want to select questions in a way that \"unmix\" the labels of a dataset the best.\n",
    "\n",
    "As an example, consider a dataset like this:\n",
    "\n",
    "`X = [1, 2, 3, 4]`, `y = [0, 0, 1, 1]`\n",
    "\n",
    "Here, we could ask the question: \"$X\\leq 1$?\", which would split the dataset into \n",
    "\n",
    "`X1 = [1]`, `y1 = [0]` and \n",
    "\n",
    "`X2 = [2, 3, 4]`, `y2 = [0, 1, 1]`.\n",
    "\n",
    "looking at the labels of the resulting datasets `y1` and `y2`, we can see that `y1` is nicely unmixed (contains only labels of one class). However `y2` is not unmixed.\n",
    "\n",
    "A better question would be to ask: \"$X\\leq 2$?\", in which case we would get\n",
    "\n",
    "`X1 = [1, 2]`, `y1 = [0, 0]` and \n",
    "\n",
    "`X2 = [3, 4]`, `y2 = [1, 1]`.\n",
    "\n",
    "Here both `y1` and `y2` are perfectly unmixed.\n",
    "\n",
    "There are many ways to quantify the \"unmixing\" property of a dataset. For decision trees however a popular choice is the [**Gini-Impurity**](https://en.wikipedia.org/wiki/Decision_tree_learning#Gini_impurity). It measures the probability that we would missclasify a sample if we classified according to the distribution of labels.\n",
    "\n",
    "Let $p_i$ be the relative frequency of class $i$ in the dataset with labels $y$, then the Gini-Impurity is defined as\n",
    "\n",
    "\\begin{align*}\n",
    "I_G(y) = 1 - \\sum_i p_i^2\\,.\n",
    "\\end{align*}\n",
    "\n",
    "In the following figure we can see the Gini-Impurity for binary classification problems depending on the relative frequency $p_0$ of class 0: \n",
    "<div>\n",
    "<img src=\"images/gini.png\" width=\"500\"/>\n",
    "</div>\n",
    "If we have a perfectly unmixed dataset, the Gini-Impurity is 0. The maximum value is 0.5 if we have the same amount of both labels. Recall that for decision trees we want to split a dataset into subsets of low Gini-Impurity."
   ]
  },
  {
   "cell_type": "markdown",
   "id": "5ad491da",
   "metadata": {},
   "source": [
    "### Task 2\n",
    "\n",
    "Implement the following function and calculate the Gini-Impurity for the labels of the dataset."
   ]
  },
  {
   "cell_type": "code",
   "execution_count": 66,
   "id": "02d7cba0",
   "metadata": {},
   "outputs": [],
   "source": [
    "def gini_imp(y : np.ndarray) -> float:\n",
    "    '''\n",
    "    Calculates Gini-Impurity for binary labels.\n",
    "    \n",
    "    @Params:\n",
    "        y... labels in {0, 1}\n",
    "        \n",
    "    @Returns: \n",
    "        Gini-Impurity\n",
    "    '''\n",
    "    # TODO: implement\n",
    "    y0=np.mean(y)\n",
    "    y1=1-y0\n",
    "    return 1-y0*y0- y1*y1\n",
    "\n",
    "\n",
    "# assertions\n",
    "assert np.isclose(gini_imp(y), 0.499928)"
   ]
  },
  {
   "cell_type": "markdown",
   "id": "73b45178",
   "metadata": {},
   "source": [
    "We want to use the Gini-Impurity to evaluate how good a splitting of a dataset is. For this we simply calculate a weighted sum of the impurities of the individual splits. Let $y_0, y_1$ be splits of a dataset $y$. Then we simply compute the score\n",
    "\n",
    "\\begin{align*}\n",
    "S(y_0, y_1) = \\cfrac{|y_0|}{|y_0| + |y_1|}I_G(y_0) + \\cfrac{|y_1|}{|y_0| + |y_1|}I_G(y_1)\\,.\n",
    "\\end{align*}\n",
    "\n",
    "That is we weight each the individual impurities with the size of the splits."
   ]
  },
  {
   "cell_type": "markdown",
   "id": "46b09d50",
   "metadata": {},
   "source": [
    "### Task 3\n",
    "\n",
    "Implement the following function and verify the score if we would split the dataset according to the question \"$x_0 \\leq 0$?\"."
   ]
  },
  {
   "cell_type": "code",
   "execution_count": 67,
   "id": "f3b3d7bf",
   "metadata": {},
   "outputs": [],
   "source": [
    "def gini_imp_split(y0 : np.ndarray, y1 : np.ndarray) -> float:\n",
    "    '''\n",
    "    Weighted Gini-Impurity for a split into two sets of labels (binary classification).\n",
    "    \n",
    "    @Params:\n",
    "        y0... label set\n",
    "        y1... label set\n",
    "    \n",
    "    @Returns:\n",
    "        Impurity score (lower = better)\n",
    "    '''\n",
    "    # TODO: implement\n",
    "    return len(y0)/(len(y0)+len(y1))*gini_imp(y0)+len(y1)/(len(y0)+len(y1))*gini_imp(y1)\n",
    "\n",
    "\n",
    "# assertions\n",
    "mask = X[:, 0] <= 0\n",
    "y0 = y[mask]\n",
    "y1 = y[~mask]\n",
    "assert np.isclose(gini_imp_split(y0, y1), 0.21925534616082165)"
   ]
  },
  {
   "cell_type": "markdown",
   "id": "3414a371",
   "metadata": {},
   "source": [
    "Now the challenge is to find the index and the value that produces the lowest score ($\\rightarrow$ best split).\n",
    "For decision trees we do this in three steps:\n",
    "\n",
    "1. Iterate trough all $x\\in X$ and all dimensions $i$. Let $x_i = v$ be the value that we observe.\n",
    "2. Score the split according to \"$x_i \\leq v$?\".\n",
    "3. Report dimension $i$ and value $v$ of best score\n",
    "\n",
    "In practice we do not use the value $v$ but rather the average of $v$ and the first value for $x_i$ that is $> v$. \n",
    "\n",
    "As an example, if we identified $x_0 \\leq 1.5$ as the best split, we will look for the lowest value of $x_0$ that is $>1.5$ and report the mean of those two values. Lets say this next greater value is $1.6$, then we will report index 0 and value $0.5(1.5 + 1.6) = 1.55$. This way we draw the decision boundary between the datapoints rather than on the datapoints."
   ]
  },
  {
   "cell_type": "markdown",
   "id": "c69bc2a8",
   "metadata": {},
   "source": [
    "### Task 4\n",
    "\n",
    "Implement the following function that searches for the best split of a dataset.\n",
    "\n",
    "Use this function to find the best split of our dataset."
   ]
  },
  {
   "cell_type": "code",
   "execution_count": 68,
   "id": "77554644",
   "metadata": {},
   "outputs": [
    {
     "name": "stderr",
     "output_type": "stream",
     "text": [
      "/home/denis/anaconda3/lib/python3.11/site-packages/numpy/core/fromnumeric.py:3504: RuntimeWarning: Mean of empty slice.\n",
      "  return _methods._mean(a, axis=axis, dtype=dtype,\n",
      "/home/denis/anaconda3/lib/python3.11/site-packages/numpy/core/_methods.py:129: RuntimeWarning: invalid value encountered in scalar divide\n",
      "  ret = ret.dtype.type(ret / rcount)\n"
     ]
    }
   ],
   "source": [
    "def best_split(X : np.ndarray, y : np.ndarray) -> tuple:\n",
    "    '''\n",
    "    Identifies the best split of a dataset according to Gini-Impurity.\n",
    "    \n",
    "    @Params:\n",
    "        X... samples\n",
    "        y... labels\n",
    "        \n",
    "    @Returns:\n",
    "        triple (index, value, Gini-Score) of split\n",
    "    '''\n",
    "    # TODO: implement\n",
    "    idx=0\n",
    "    v=0\n",
    "    gi=1\n",
    "    for i in range(X.shape[0]):\n",
    "        for j in range(X.shape[1]):\n",
    "            condition= X[:, j]<=X[i,j]\n",
    "            gi_new= gini_imp_split(y[condition], y[~condition])\n",
    "            if gi_new<gi:\n",
    "                gi=gi_new\n",
    "                v=X[i, j]\n",
    "                idx=j\n",
    "    condition= X[:, idx]>v\n",
    "    min_v=min(X[:, idx][condition])\n",
    "    return (idx, (v+min_v)/2, gi)\n",
    "\n",
    "# assertions\n",
    "idx, v, gi = best_split(X, y)\n",
    "assert idx == 0\n",
    "assert np.isclose(v, -0.15385073614765354)\n",
    "assert np.isclose(gi, 0.19709883984704135)"
   ]
  },
  {
   "cell_type": "markdown",
   "id": "47207eb4",
   "metadata": {},
   "source": [
    "With this functionality we have everything to recursively build up a decision tree.\n",
    "\n",
    "Each node in the tree has the following attributes:\n",
    "\n",
    "- `X`, `y`, `gi`: part of the dataset that is passed to the node\n",
    "- `depth`, `max_depth`: depth of the node in the tree as well as the maximum depth of the tree\n",
    "\n",
    "And can perform the following operations:\n",
    "\n",
    "- `split`: if not already pure or at `max_depth`, finds the best split of its dataset and creates two child nodes (+1 depth)\n",
    "- `predict` : given a dataset predicts labels accoding to its children (or according to its labels if we have no children)"
   ]
  },
  {
   "cell_type": "markdown",
   "id": "2718548f",
   "metadata": {},
   "source": [
    "### Task 5\n",
    "\n",
    "Implement the following `Node` class which implements the functionality of a single node. \n",
    "\n",
    "Use the provided `DecisionTree` class to learn and print a decision tree on our dataset."
   ]
  },
  {
   "cell_type": "code",
   "execution_count": 69,
   "id": "7b035704",
   "metadata": {},
   "outputs": [
    {
     "name": "stdout",
     "output_type": "stream",
     "text": [
      "x_0 <= -0.15385073614765354?\n",
      "\tx_1 <= 1.2240952599987902?\n",
      "\t\tx_0 <= -0.33968405109517646?\n",
      "\t\t\tx_1 <= -0.05611696614715961?\n",
      "\t\t\t\tx_1 <= -1.7034802683529957?\n",
      "\t\t\t\t\t0.06666666666666667\n",
      "\t\t\t\telse:\n",
      "\t\t\t\t\t0.0\n",
      "\n",
      "\t\t\telse:\n",
      "\t\t\t\tx_1 <= 0.7460292010610671?\n",
      "\t\t\t\t\t0.5882352941176471\n",
      "\t\t\t\telse:\n",
      "\t\t\t\t\t0.02857142857142857\n",
      "\n",
      "\n",
      "\t\telse:\n",
      "\t\t\tx_1 <= 0.5933469449738044?\n",
      "\t\t\t\t1.0\n",
      "\t\t\telse:\n",
      "\t\t\t\tx_0 <= -0.2937222837876336?\n",
      "\t\t\t\t\t0.3333333333333333\n",
      "\t\t\t\telse:\n",
      "\t\t\t\t\t0.0\n",
      "\n",
      "\n",
      "\n",
      "\telse:\n",
      "\t\t1.0\n",
      "\n",
      "else:\n",
      "\tx_0 <= 0.3295256957451717?\n",
      "\t\tx_1 <= 0.4708509772502949?\n",
      "\t\t\t1.0\n",
      "\t\telse:\n",
      "\t\t\tx_1 <= 1.3247057841675565?\n",
      "\t\t\t\t0.0\n",
      "\t\t\telse:\n",
      "\t\t\t\t1.0\n",
      "\n",
      "\n",
      "\telse:\n",
      "\t\tx_1 <= 0.6184130862987511?\n",
      "\t\t\t1.0\n",
      "\t\telse:\n",
      "\t\t\tx_0 <= 1.4765927063700852?\n",
      "\t\t\t\tx_1 <= 0.6536193711057258?\n",
      "\t\t\t\t\t0.0\n",
      "\t\t\t\telse:\n",
      "\t\t\t\t\t0.967741935483871\n",
      "\n",
      "\t\t\telse:\n",
      "\t\t\t\t0.0\n",
      "\n",
      "\n",
      "\n",
      "\n",
      "\n"
     ]
    }
   ],
   "source": [
    "class Node():\n",
    "        \n",
    "    def __init__(self, X : np.ndarray, y : np.ndarray, depth : int, max_depth : int):\n",
    "        '''\n",
    "        Constructor for a node.\n",
    "        \n",
    "        @Params:\n",
    "            X... samples\n",
    "            y... labels\n",
    "            depth... depth of this node in the tree\n",
    "            max_depth... maximum depth of any node in the tree\n",
    "        '''\n",
    "        self.X = X\n",
    "        self.y = y\n",
    "        self.depth = depth\n",
    "        self.max_depth = max_depth\n",
    "        \n",
    "        self.gi = gini_imp(self.y)\n",
    "        self.split_idx = None\n",
    "        self.split_value = None\n",
    "        self.left = None\n",
    "        self.right = None\n",
    "        \n",
    "        \n",
    "        \n",
    "    def split(self):\n",
    "        '''\n",
    "        Creates child nodes (self.left, self.right) if labels are not already pure.\n",
    "        '''\n",
    "        # TODO: implement\n",
    "        if self.depth==self.max_depth or np.mean(self.y)==0 or np.mean(self.y)==1:return \n",
    "        self.split_idx, self.split_value,_= best_split(self.X, self.y)\n",
    "        condition= self.X[:, self.split_idx]<=self.split_value\n",
    "        self.left=Node(self.X[condition], self.y[condition], self.depth+1, self.max_depth)\n",
    "        self.left.split()\n",
    "        self.right=Node(self.X[~condition], self.y[~condition], self.depth+1, self.max_depth)\n",
    "        self.right.split()\n",
    "        \n",
    "\n",
    "    def predict(self, X : np.ndarray) -> np.ndarray:\n",
    "        '''\n",
    "        Predicts labels for samples.\n",
    "        \n",
    "        @Params:\n",
    "            X... samples\n",
    "            \n",
    "        @Returns:\n",
    "            predicted labels by this node\n",
    "        '''\n",
    "        # TODO: implement\n",
    "        if self.left==None and self.right==None:\n",
    "            if np.mean(self.y)<=0.5: return np.full(X.shape[0], 0)\n",
    "            else: return np.full(X.shape[0], 1)\n",
    "        else:\n",
    "            condition= X[:, self.split_idx]<=self.split_value\n",
    "            X_left= X[condition]\n",
    "            y_left= self.left.predict(X_left)\n",
    "            X_right= X[~condition]\n",
    "            y_right= self.right.predict(X_right)\n",
    "            y=np.empty(X.shape[0])\n",
    "            y[condition]=y_left\n",
    "            y[~condition]= y_right\n",
    "            return y\n",
    "            \n",
    "        \n",
    "    def __repr__(self) -> str:\n",
    "        '''\n",
    "        String representation of the node.\n",
    "        \n",
    "        @Returns:\n",
    "            a string that represents the subtree with this node as root.\n",
    "            Something like \n",
    "            x0 < 1.5?\n",
    "                str(child1)\n",
    "            else\n",
    "                str(child2)\n",
    "            \n",
    "        '''\n",
    "        ident_str = '\\t' * self.depth \n",
    "        if self.split_idx is not None:    \n",
    "            ret = f'{ident_str}x_{self.split_idx} <= {self.split_value}?\\n'\n",
    "            ret += str(self.left)\n",
    "            ret += f'{ident_str}else:\\n'\n",
    "            ret += str(self.right)\n",
    "            ret += '\\n'\n",
    "        else:\n",
    "            ret = f'{ident_str}{np.mean(self.y)}\\n'\n",
    "        return ret\n",
    "\n",
    "\n",
    "class DecisionTree():\n",
    "    '''\n",
    "    Provided. A wrapper class for the root of the decision tree.\n",
    "    This will give you an idea of how the Node class is used.\n",
    "    '''\n",
    "    \n",
    "    def __init__(self, max_depth : int = np.inf):\n",
    "        '''\n",
    "        Constructor of decision tree.\n",
    "        \n",
    "        @Params:\n",
    "            max_depth... maximum depth of any node in the tree\n",
    "        '''\n",
    "        self.root = None\n",
    "        self.max_depth = max_depth\n",
    "        \n",
    "    def fit(self, X : np.ndarray, y : np.ndarray):\n",
    "        '''\n",
    "        Learns the nodes of the decision tree.\n",
    "        \n",
    "        @Params:\n",
    "            X... samples\n",
    "            y... labels\n",
    "        '''\n",
    "        self.root = Node(X, y, 0, self.max_depth)\n",
    "        self.root.split()\n",
    "        \n",
    "    def predict(self, X : np.ndarray) -> np.ndarray:\n",
    "        '''\n",
    "        Predicts labels for samples.\n",
    "        \n",
    "        @Params:\n",
    "            X... samples\n",
    "        '''\n",
    "        return self.root.predict(X)\n",
    "    \n",
    "    def __repr__(self) -> str:\n",
    "        '''\n",
    "        String representation of the tree.\n",
    "        '''\n",
    "        return str(self.root)\n",
    "    \n",
    "    \n",
    "# assertions\n",
    "dt = DecisionTree(2)\n",
    "dt.fit(X, y)\n",
    "\n",
    "node = dt.root\n",
    "assert node.split_idx == 0\n",
    "assert np.isclose(node.split_value, -0.15385073614765354)\n",
    "\n",
    "node = dt.root.left\n",
    "assert node.split_idx == 1\n",
    "assert np.isclose(node.split_value, 1.2240952599987902)\n",
    "\n",
    "node = dt.root.right\n",
    "assert node.split_idx == 0\n",
    "assert np.isclose(node.split_value, 0.3295256957451717)\n",
    "\n",
    "\n",
    "print(dt)"
   ]
  },
  {
   "cell_type": "markdown",
   "id": "3793c9d7",
   "metadata": {},
   "source": [
    "### Task 6\n",
    "\n",
    "Calculate the accuracy of the decision tree on the dataset and visualize the decision boundary.\n",
    "\n",
    "You can use `utils.plot_dec_boundary` for the visualization."
   ]
  },
  {
   "cell_type": "code",
   "execution_count": 70,
   "id": "45411f4f",
   "metadata": {},
   "outputs": [
    {
     "name": "stdout",
     "output_type": "stream",
     "text": [
      "0.972\n"
     ]
    },
    {
     "data": {
      "image/png": "[encoded data removed]",
      "text/plain": [
       "<Figure size 640x480 with 1 Axes>"
      ]
     },
     "metadata": {},
     "output_type": "display_data"
    }
   ],
   "source": [
    "from sklearn.metrics import accuracy_score\n",
    "# TODO: accuracy\n",
    "accuracy = accuracy_score(dt.predict(X), y)\n",
    "print(accuracy)\n",
    "assert accuracy == 0.932\n",
    "\n",
    "from utils import plot_dec_boundary \n",
    "# TODO: plot decision boundary\n",
    "plot_dec_boundary(X, y, dt, None)\n"
   ]
  },
  {
   "cell_type": "markdown",
   "id": "87a61294",
   "metadata": {},
   "source": [
    "### Task 7\n",
    "\n",
    "Use the [scikit learn implementation](https://scikit-learn.org/stable/modules/generated/sklearn.tree.DecisionTreeClassifier.html) to learn a decision tree with the same maximum depth as your tree from Task 5.\n",
    "\n",
    "Compare the decision boundary, accuracy and the internal parameters to those of your own implementation."
   ]
  },
  {
   "cell_type": "code",
   "execution_count": 76,
   "id": "69c72115",
   "metadata": {},
   "outputs": [
    {
     "data": {
      "text/html": [
       "<style>#sk-container-id-1 {color: black;background-color: white;}#sk-container-id-1 pre{padding: 0;}#sk-container-id-1 div.sk-toggleable {background-color: white;}#sk-container-id-1 label.sk-toggleable__label {cursor: pointer;display: block;width: 100%;margin-bottom: 0;padding: 0.3em;box-sizing: border-box;text-align: center;}#sk-container-id-1 label.sk-toggleable__label-arrow:before {content: \"▸\";float: left;margin-right: 0.25em;color: #696969;}#sk-container-id-1 label.sk-toggleable__label-arrow:hover:before {color: black;}#sk-container-id-1 div.sk-estimator:hover label.sk-toggleable__label-arrow:before {color: black;}#sk-container-id-1 div.sk-toggleable__content {max-height: 0;max-width: 0;overflow: hidden;text-align: left;background-color: #f0f8ff;}#sk-container-id-1 div.sk-toggleable__content pre {margin: 0.2em;color: black;border-radius: 0.25em;background-color: #f0f8ff;}#sk-container-id-1 input.sk-toggleable__control:checked~div.sk-toggleable__content {max-height: 200px;max-width: 100%;overflow: auto;}#sk-container-id-1 input.sk-toggleable__control:checked~label.sk-toggleable__label-arrow:before {content: \"▾\";}#sk-container-id-1 div.sk-estimator input.sk-toggleable__control:checked~label.sk-toggleable__label {background-color: #d4ebff;}#sk-container-id-1 div.sk-label input.sk-toggleable__control:checked~label.sk-toggleable__label {background-color: #d4ebff;}#sk-container-id-1 input.sk-hidden--visually {border: 0;clip: rect(1px 1px 1px 1px);clip: rect(1px, 1px, 1px, 1px);height: 1px;margin: -1px;overflow: hidden;padding: 0;position: absolute;width: 1px;}#sk-container-id-1 div.sk-estimator {font-family: monospace;background-color: #f0f8ff;border: 1px dotted black;border-radius: 0.25em;box-sizing: border-box;margin-bottom: 0.5em;}#sk-container-id-1 div.sk-estimator:hover {background-color: #d4ebff;}#sk-container-id-1 div.sk-parallel-item::after {content: \"\";width: 100%;border-bottom: 1px solid gray;flex-grow: 1;}#sk-container-id-1 div.sk-label:hover label.sk-toggleable__label {background-color: #d4ebff;}#sk-container-id-1 div.sk-serial::before {content: \"\";position: absolute;border-left: 1px solid gray;box-sizing: border-box;top: 0;bottom: 0;left: 50%;z-index: 0;}#sk-container-id-1 div.sk-serial {display: flex;flex-direction: column;align-items: center;background-color: white;padding-right: 0.2em;padding-left: 0.2em;position: relative;}#sk-container-id-1 div.sk-item {position: relative;z-index: 1;}#sk-container-id-1 div.sk-parallel {display: flex;align-items: stretch;justify-content: center;background-color: white;position: relative;}#sk-container-id-1 div.sk-item::before, #sk-container-id-1 div.sk-parallel-item::before {content: \"\";position: absolute;border-left: 1px solid gray;box-sizing: border-box;top: 0;bottom: 0;left: 50%;z-index: -1;}#sk-container-id-1 div.sk-parallel-item {display: flex;flex-direction: column;z-index: 1;position: relative;background-color: white;}#sk-container-id-1 div.sk-parallel-item:first-child::after {align-self: flex-end;width: 50%;}#sk-container-id-1 div.sk-parallel-item:last-child::after {align-self: flex-start;width: 50%;}#sk-container-id-1 div.sk-parallel-item:only-child::after {width: 0;}#sk-container-id-1 div.sk-dashed-wrapped {border: 1px dashed gray;margin: 0 0.4em 0.5em 0.4em;box-sizing: border-box;padding-bottom: 0.4em;background-color: white;}#sk-container-id-1 div.sk-label label {font-family: monospace;font-weight: bold;display: inline-block;line-height: 1.2em;}#sk-container-id-1 div.sk-label-container {text-align: center;}#sk-container-id-1 div.sk-container {/* jupyter's `normalize.less` sets `[hidden] { display: none; }` but bootstrap.min.css set `[hidden] { display: none !important; }` so we also need the `!important` here to be able to override the default hidden behavior on the sphinx rendered scikit-learn.org. See: https://github.com/scikit-learn/scikit-learn/issues/21755 */display: inline-block !important;position: relative;}#sk-container-id-1 div.sk-text-repr-fallback {display: none;}</style><div id=\"sk-container-id-1\" class=\"sk-top-container\"><div class=\"sk-text-repr-fallback\"><pre>DecisionTreeClassifier(max_depth=2, random_state=0)</pre><b>In a Jupyter environment, please rerun this cell to show the HTML representation or trust the notebook. <br />On GitHub, the HTML representation is unable to render, please try loading this page with nbviewer.org.</b></div><div class=\"sk-container\" hidden><div class=\"sk-item\"><div class=\"sk-estimator sk-toggleable\"><input class=\"sk-toggleable__control sk-hidden--visually\" id=\"sk-estimator-id-1\" type=\"checkbox\" checked><label for=\"sk-estimator-id-1\" class=\"sk-toggleable__label sk-toggleable__label-arrow\">DecisionTreeClassifier</label><div class=\"sk-toggleable__content\"><pre>DecisionTreeClassifier(max_depth=2, random_state=0)</pre></div></div></div></div></div>"
      ],
      "text/plain": [
       "DecisionTreeClassifier(max_depth=2, random_state=0)"
      ]
     },
     "execution_count": 76,
     "metadata": {},
     "output_type": "execute_result"
    }
   ],
   "source": [
    "# TODO: use scikit learn implementation\n",
    "from sklearn.tree import DecisionTreeClassifier\n",
    "\n",
    "clf = DecisionTreeClassifier(random_state=0, max_depth=2)\n",
    "clf.fit(X, y)"
   ]
  },
  {
   "cell_type": "code",
   "execution_count": 72,
   "id": "7b62116a",
   "metadata": {},
   "outputs": [],
   "source": [
    "# TODO: compare decision boundary"
   ]
  },
  {
   "cell_type": "code",
   "execution_count": 73,
   "id": "0354163a",
   "metadata": {},
   "outputs": [],
   "source": [
    "# TODO: compare accuracy"
   ]
  },
  {
   "cell_type": "code",
   "execution_count": 74,
   "id": "5c942572",
   "metadata": {
    "scrolled": false
   },
   "outputs": [],
   "source": [
    "# TODO: compare parameters"
   ]
  },
  {
   "cell_type": "markdown",
   "id": "f4d3a726",
   "metadata": {},
   "source": [
    "## Influence of Tree depth\n",
    "\n",
    "Now we want to investigate the influence of the maximum tree depth on the classification accuracy."
   ]
  },
  {
   "cell_type": "markdown",
   "id": "facc6c52",
   "metadata": {},
   "source": [
    "### Task 8\n",
    "\n",
    "Split the dataset into train- and testdata and plot the train- and test accuracy for an increasing maximum tree depth.\n",
    "\n",
    "You can use the scikit learn implementation or your own."
   ]
  },
  {
   "cell_type": "code",
   "execution_count": 75,
   "id": "b433273d",
   "metadata": {
    "scrolled": true
   },
   "outputs": [],
   "source": [
    "from sklearn.model_selection import train_test_split\n",
    "X_train, X_test, y_train, y_test = train_test_split(X, y, test_size=0.33, random_state=0)\n",
    "\n",
    "# TODO: plot train and test accuracy for increasing tree depth"
   ]
  },
  {
   "cell_type": "markdown",
   "id": "3b2b47ef",
   "metadata": {},
   "source": [
    "### Task 9\n",
    "\n",
    "In your own words, describe the influence of the maximum tree depth."
   ]
  },
  {
   "cell_type": "markdown",
   "id": "46ce54e2",
   "metadata": {},
   "source": [
    "<font color='red'>TODO:</font> write"
   ]
  }
 ],
 "metadata": {
  "interpreter": {
   "hash": "b39a671858085d70125f4f28cb6256d6037eab582b2bde2ee45c6eac63f37da5"
  },
  "kernelspec": {
   "display_name": "Python 3 (ipykernel)",
   "language": "python",
   "name": "python3"
  },
  "language_info": {
   "codemirror_mode": {
    "name": "ipython",
    "version": 3
   },
   "file_extension": ".py",
   "mimetype": "text/x-python",
   "name": "python",
   "nbconvert_exporter": "python",
   "pygments_lexer": "ipython3",
   "version": "3.11.4"
  }
 },
 "nbformat": 4,
 "nbformat_minor": 5
}
