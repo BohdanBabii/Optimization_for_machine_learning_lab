{
 "cells": [
  {
   "cell_type": "code",
   "execution_count": null,
   "id": "1ce0db84",
   "metadata": {},
   "outputs": [],
   "source": [
    "Group: Bohdan Babii, Felix Kreß"
   ]
  },
  {
   "cell_type": "markdown",
   "id": "71fcd20c",
   "metadata": {},
   "source": [
    "# Exercise 4 - Spam Filtering with Naive Bayes\n",
    "\n",
    "In this Exercise we will implement a spam detector that relies on the naive Bayes assumption. We will then compare its performance to logistic regression.\n",
    "\n",
    "In the event of a persistent problem, do not hesitate to contact the course instructors under\n",
    "\n",
    "- paul.kahlmeyer@uni-jena.de\n",
    "- maurice.wenig@uni-jena.de\n",
    "\n",
    "### Submission\n",
    "- Deadline of submission:\n",
    "14.05.2024 23:59\n",
    "- Submission on [moodle page](https://moodle.uni-jena.de/course/view.php?id=54249)"
   ]
  },
  {
   "cell_type": "markdown",
   "id": "bbaee5db",
   "metadata": {},
   "source": [
    "# Dataset\n",
    "\n",
    "We will use the [SMS Spam Collection Dataset](https://www.kaggle.com/datasets/uciml/sms-spam-collection-dataset?resource=download). You find this dataset as `spam_data.csv`. Each line consists of a message together with a label:\n",
    "- spam (message is a spam message)\n",
    "- ham (message is legitimate)"
   ]
  },
  {
   "cell_type": "markdown",
   "id": "2226b020",
   "metadata": {},
   "source": [
    "### Task 1\n",
    "Find a way to load the dataset and transform the features `X` (SMS) and the labels `Y` (spam/ham) into numerical representations.\n",
    "\n",
    "For transforming SMS into features, check out the bag of words representation from [scikit-learn](https://scikit-learn.org/stable/modules/feature_extraction.html)"
   ]
  },
  {
   "cell_type": "code",
   "execution_count": 38,
   "id": "dddc4758",
   "metadata": {},
   "outputs": [],
   "source": [
    "import numpy as np\n",
    "import pandas as pd\n",
    "from sklearn.feature_extraction.text import CountVectorizer\n",
    "\n",
    "# TODO: load data, transform into numerical features + labels\n",
    "\n",
    "\n",
    "df = pd.read_csv('spam_data.csv', names=['labels', 'messages'], header=None, skiprows=1)\n",
    "\n",
    "\n",
    "vectorizer = CountVectorizer()\n",
    "\n",
    "# Transform messages into a bag-of-words representation\n",
    "x = vectorizer.fit_transform(df['messages']).toarray()\n",
    "\n",
    "# Transform labels into numerical values\n",
    "y = np.where(df['labels'] == 'ham', 0, 1)  # Encode 'ham' as 0 and 'spam' as 1\n",
    "\n",
    "# assertions\n",
    "assert x.shape == (5573, 8798)\n",
    "assert y.shape == (5573,)\n",
    "assert np.sum(x) == 80997"
   ]
  },
  {
   "cell_type": "markdown",
   "id": "3f6cd503",
   "metadata": {},
   "source": [
    "# Naive Bayes\n",
    "\n",
    "The naive Bayes filter is based on the Bayes formula with an additional simplifying (naive) assumption about the nature of the likelihood.\n",
    "\n",
    "Let $S = \\{\\text{spam}, \\text{ham}\\}$ be the source of a SMS and $W = [w_1,\\dots w_k]$ be the sequence of words contained in the SMS.\n",
    "Then filtering for spam and ham is done by evaluating the posterior distribution\n",
    "\\begin{align}\n",
    "p(S|W)&=\\cfrac{p(S)p(W|S)}{p(W)}\n",
    "\\end{align}\n",
    "\n",
    "Lets look at the single parts of the equations right hand side and how to implement them.\n",
    "\n",
    "As a running example we will use $W = [\\text{this}, \\text{is}, \\text{no}, \\text{spam}, \\text{message}]$."
   ]
  },
  {
   "cell_type": "markdown",
   "id": "79137530",
   "metadata": {},
   "source": [
    "## Prior $p(S)$"
   ]
  },
  {
   "cell_type": "markdown",
   "id": "805adc25",
   "metadata": {},
   "source": [
    "The prior distribution $p(S)$ is independent of the message $W$. We will use the maximum likelihood (ML) estimate for a categorical distribution, which is the relative frequency of the categories among the dataset.\n",
    "\\begin{align}\n",
    "p(S = \\text{spam})_{ML} &= \\cfrac{\\text{\\# SMS that are spam}}{\\text{\\# SMS}}\\\\\n",
    "p(S = \\text{ham})_{ML} &= 1 - p(S = \\text{spam})\n",
    "\\end{align}\n",
    "\n",
    "### Task 2\n",
    "\n",
    "Estimate $p(S)$. Display the estimated distribution in a bar chart."
   ]
  },
  {
   "cell_type": "code",
   "execution_count": 39,
   "id": "d7b6c529",
   "metadata": {},
   "outputs": [
    {
     "data": {
      "image/png": "[encoded data removed]",
      "text/plain": [
       "<Figure size 640x480 with 1 Axes>"
      ]
     },
     "metadata": {},
     "output_type": "display_data"
    }
   ],
   "source": [
    "import matplotlib.pyplot as plt\n",
    "\n",
    "# TODO: estimate p(S), display in bar chart\n",
    "p_spam = np.mean(y)\n",
    "p_ham = 1 - p_spam\n",
    "\n",
    "# assertions\n",
    "assert np.isclose(p_spam, 0.13403911717207967)\n",
    "\n",
    "\n",
    "# Creating the plot\n",
    "labels = ['Ham', 'Spam']\n",
    "values = [p_ham, p_spam]\n",
    "\n",
    "fig, ax = plt.subplots()\n",
    "bars = ax.bar(labels, values, color=['skyblue', 'salmon'])\n",
    "\n",
    "# Adding value labels on top of each bar\n",
    "for bar in bars:\n",
    "    yval = bar.get_height()\n",
    "    ax.text(bar.get_x() + bar.get_width()/2, yval, round(yval, 4), ha='center', va='bottom')\n",
    "\n",
    "# Adding titles and labels\n",
    "ax.set_ylabel('Probability')\n",
    "ax.set_title('Probability of Ham and Spam')\n",
    "plt.ylim(0, 1)  # Set y-axis limits to show probabilities clearly from 0 to 1\n",
    "plt.show()"
   ]
  },
  {
   "cell_type": "markdown",
   "id": "bf01027f",
   "metadata": {},
   "source": [
    "## Likelihood p(W|S)\n",
    "\n",
    "The likelihood distribution models how likely a SMS is, given we know its either spam or ham.\n",
    "\n",
    "E.g. for $W = [\\text{this}, \\text{is}, \\text{no}, \\text{spam}, \\text{message}]$ we would expect something like \n",
    "\\begin{align}\n",
    "p(W|S=\\text{spam}) &= \\text{low}\\\\\n",
    "p(W|S=\\text{ham}) &= \\text{medium}\\\\\n",
    "\\end{align}\n",
    "\n",
    "However to estimate $p(W|S)$ we would need a dataset with the exact same $W$ appearing in both contexts: spam and ham. Since this is not the case for our dataset, this is the part where we make a naive assumption:\n",
    "\\begin{align}\n",
    "p(W|S) = \\prod_{w\\in W}p(w|S)\n",
    "\\end{align}\n",
    "That is, we consider each word in the SMS text independend of the others. This simplification enables us to estimate the likelihood, since single words to in fact appear in both contexts.\n",
    "\n",
    "For a single word $w$, we can again estimate the probability as relative frequency \n",
    "\\begin{align}\n",
    "p(w|S = \\text{spam})_{ML} &= \\cfrac{\\text{\\# word $w$ is labeled spam}}{\\text{\\# any word is labeled spam}}\\\\\n",
    "p(w|S = \\text{ham})_{ML} &= \\cfrac{\\text{\\# word $w$ is labeled ham}}{\\text{\\# any word is labeled ham}}\\\\\n",
    "\\end{align}\n",
    "\n",
    "Since we cannot expect every word to have appeared in a spam and ham message, we will smooth our dataset with a [Laplace smoothing](https://en.wikipedia.org/wiki/Additive_smoothing) of $\\varepsilon = 0.001$. \n",
    "\n",
    "This is done by adding $\\varepsilon$ to the count of every word in every SMS.\n",
    "\n",
    "As an example the count vector for a SMS over a vocabulary of 5 words is transformed from\n",
    "\\begin{align}\n",
    "[1, 2, 0, 0, 1]\n",
    "\\end{align}\n",
    "into\n",
    "\\begin{align}\n",
    "[1.001, 2.001, 0.001, 0.001, 1.001]\\,.\n",
    "\\end{align}\n",
    "\n",
    "This way we do not have zero probabilities in the product for calculating $p(W|S)$."
   ]
  },
  {
   "cell_type": "markdown",
   "id": "6e3d60a6",
   "metadata": {},
   "source": [
    "### Task 3\n",
    "\n",
    "Apply Laplace smoothing ($\\varepsilon = 0.001$) to the dataset."
   ]
  },
  {
   "cell_type": "code",
   "execution_count": 40,
   "id": "7f3b8f60",
   "metadata": {},
   "outputs": [],
   "source": [
    "# TODO: apply Laplace smoothing\n",
    "x_smooth = x + 0.001\n",
    "\n",
    "# assertions\n",
    "assert np.isclose(np.sum(x_smooth), 80997 + 5573 * 8798 * 0.001)"
   ]
  },
  {
   "cell_type": "markdown",
   "id": "e91e054c",
   "metadata": {},
   "source": [
    "### Task 4\n",
    "\n",
    "For $W = [\\text{this}, \\text{is}, \\text{no}, \\text{spam}, \\text{message}]$, calculate $p(W|S)$.\n",
    "\n",
    "Display $p(w|S = \\text{spam}), p(w|S = \\text{ham})$ for every $w\\in W$."
   ]
  },
  {
   "cell_type": "code",
   "execution_count": 68,
   "id": "ca7a4d71",
   "metadata": {
    "scrolled": true
   },
   "outputs": [
    {
     "name": "stdout",
     "output_type": "stream",
     "text": [
      "[7727, 4234, 5403, 7162, 5026]\n"
     ]
    },
    {
     "data": {
      "image/png": "[encoded data removed]",
      "text/plain": [
       "<Figure size 1000x500 with 1 Axes>"
      ]
     },
     "metadata": {},
     "output_type": "display_data"
    }
   ],
   "source": [
    "# TODO: calculate p(W|S) for W = [this is no spam message]\n",
    "vectorizer = CountVectorizer()\n",
    "vectorizer.fit(df['messages'])\n",
    "vocab = vectorizer.vocabulary_\n",
    "\n",
    "test_message = [\"this\", \"is\", \"no\", \"spam\", \"message\"]\n",
    "indices = [vocab[word] for word in test_message if word in vocab]\n",
    "\n",
    "spam_mask = y == 1\n",
    "spam_words = x_smooth[spam_mask].sum(axis=0)\n",
    "ham_words = x_smooth[~spam_mask].sum(axis=0)\n",
    "total_spam_words = spam_words.sum()\n",
    "total_ham_words = ham_words.sum()\n",
    "\n",
    "p_w_given_spam = [spam_words[idx] / total_spam_words for idx in indices]\n",
    "p_w_given_ham = [ham_words[idx] / total_ham_words for idx in indices]\n",
    "\n",
    "p_test_message_given_spam = np.prod(p_w_given_spam)\n",
    "p_test_message_given_ham = np.prod(p_w_given_ham)\n",
    "\n",
    "# assertions\n",
    "assert np.isclose(p_test_message_given_spam, 7.31708303756972e-15)\n",
    "assert np.isclose(p_test_message_given_ham, 1.4235772856358894e-15)\n",
    "\n",
    "# TODO: plot p(w|S)\n",
    "plt.figure(figsize=(10, 5))\n",
    "plt.bar(test_message, p_w_given_spam, color='red', alpha=0.7, label='p(w|Spam)')\n",
    "plt.bar(test_message, p_w_given_ham, color='green', alpha=0.5, label='p(w|Ham)')\n",
    "plt.ylabel('Probability')\n",
    "plt.title('Probability of Words Given Spam/Ham')\n",
    "plt.legend()\n",
    "plt.show()"
   ]
  },
  {
   "cell_type": "markdown",
   "id": "21f56062",
   "metadata": {},
   "source": [
    "### Task 5\n",
    "From the dataset, list the top 5 words with the highest probabilities $p(w|S = \\text{spam})$ and $p(w|S = \\text{ham})$."
   ]
  },
  {
   "cell_type": "code",
   "execution_count": 67,
   "id": "d824a33f",
   "metadata": {},
   "outputs": [],
   "source": [
    "# TODO: list top 5 words accoding to p(w|S)\n",
    "inverse_vocab = {}\n",
    "for word, index in vocab.items():\n",
    "    inverse_vocab[index] = word\n",
    "\n",
    "top_spam_indices = np.argsort(p_w_given_spam)[::-1]\n",
    "top_ham_indices = np.argsort(p_w_given_ham)[::-1]\n",
    "\n",
    "top_spam_words = [inverse_vocab[i] for i in top_spam_indices[:5]]\n",
    "top_ham_words = [inverse_vocab[i] for i in top_ham_indices[:5]]\n",
    "\n",
    "# assertions\n",
    "assert set(top_spam_words) == {\"to\", \"call\", \"you\", \"your\", \"free\"}\n",
    "assert set(top_ham_words) == {\"you\", \"to\", \"the\", \"and\", \"in\"}"
   ]
  },
  {
   "cell_type": "markdown",
   "id": "e023938d",
   "metadata": {},
   "source": [
    "## Evidence $p(W)$"
   ]
  },
  {
   "cell_type": "markdown",
   "id": "a7e0c342",
   "metadata": {},
   "source": [
    "The evidence tells us how likely the SMS was anyway. In many cases this is the most difficult part of the posterior to calculate. Here however we are lucky, since there are only two cases for $S$ and therefore\n",
    "\\begin{align}\n",
    "p(W) = p(W|S=\\text{spam}) + p(W|S=\\text{ham})\n",
    "\\end{align}\n",
    "\n",
    "That is $p(W)$ acts as a normalization constant."
   ]
  },
  {
   "cell_type": "markdown",
   "id": "e1948ddc",
   "metadata": {},
   "source": [
    "### Task 6\n",
    "\n",
    "For $W = [\\text{this}, \\text{is}, \\text{no}, \\text{spam}, \\text{message}]$, calculate $p(W)$."
   ]
  },
  {
   "cell_type": "code",
   "execution_count": 70,
   "id": "908824b1",
   "metadata": {
    "scrolled": true
   },
   "outputs": [],
   "source": [
    "# TODO: calculate p(W) for W = [this is no spam message]\n",
    "p_test_message = p_test_message_given_spam * p_spam + p_test_message_given_ham * p_ham\n",
    "assert np.isclose(p_test_message, 8.740660323205609e-15)"
   ]
  },
  {
   "cell_type": "markdown",
   "id": "27a75eeb",
   "metadata": {},
   "source": [
    "## Classification\n",
    "\n",
    "With Prior, Likelihood and Evidence we can now assemble the Posterior\n",
    "\\begin{align}\n",
    "p(S|W)&=\\cfrac{p(S)p(W|S)}{p(W)}\\,.\n",
    "\\end{align}\n",
    "\n",
    "Remember that we want to use the Posterior to classify $W$:\n",
    "\\begin{align}\n",
    "\\kappa(W) = \\begin{cases}\n",
    "\\text{spam}&\\text{, if }p(S = \\text{spam}|W) \\geq p(S = \\text{ham}|W)\\\\\n",
    "\\text{ham}&\\text{, else}\n",
    "\\end{cases}\n",
    "\\end{align}"
   ]
  },
  {
   "cell_type": "markdown",
   "id": "ecd3f13e",
   "metadata": {},
   "source": [
    "### Task 7\n",
    "\n",
    "Implement the following `NaiveBayes` class. \n",
    "\n",
    "Use it to fit and predict on the dataset."
   ]
  },
  {
   "cell_type": "code",
   "execution_count": 82,
   "id": "6f2647be",
   "metadata": {
    "scrolled": true
   },
   "outputs": [
    {
     "ename": "TypeError",
     "evalue": "'>' not supported between instances of 'NoneType' and 'float'",
     "output_type": "error",
     "traceback": [
      "\u001b[0;31m---------------------------------------------------------------------------\u001b[0m",
      "\u001b[0;31mTypeError\u001b[0m                                 Traceback (most recent call last)",
      "Cell \u001b[0;32mIn [82], line 68\u001b[0m\n\u001b[1;32m     66\u001b[0m \u001b[38;5;66;03m# assertions\u001b[39;00m\n\u001b[1;32m     67\u001b[0m classifier \u001b[38;5;241m=\u001b[39m NaiveBayesClassifier(laplace_smoothing_constant\u001b[38;5;241m=\u001b[39m\u001b[38;5;241m0.0001\u001b[39m)\u001b[38;5;241m.\u001b[39mfit(x, y)\n\u001b[0;32m---> 68\u001b[0m \u001b[38;5;28;01massert\u001b[39;00m \u001b[43mclassifier\u001b[49m\u001b[38;5;241;43m.\u001b[39;49m\u001b[43maccuracy\u001b[49m\u001b[43m(\u001b[49m\u001b[43mx\u001b[49m\u001b[43m,\u001b[49m\u001b[43m \u001b[49m\u001b[43my\u001b[49m\u001b[43m)\u001b[49m\u001b[43m \u001b[49m\u001b[38;5;241;43m>\u001b[39;49m\u001b[43m \u001b[49m\u001b[38;5;241;43m0.99\u001b[39;49m\n",
      "\u001b[0;31mTypeError\u001b[0m: '>' not supported between instances of 'NoneType' and 'float'"
     ]
    }
   ],
   "source": [
    "import numpy.typing as npt\n",
    "from typing import Self\n",
    "\n",
    "\n",
    "class NaiveBayesClassifier():\n",
    "    def __init__(self, laplace_smoothing_constant: float = 0.0001):\n",
    "        \"\"\"Class for binary naive Bayes.\"\"\"\n",
    "\n",
    "        self.laplace_regularization_constant = laplace_smoothing_constant\n",
    "        # n_labels x n_words\n",
    "        self.log_p_word_given_label: npt.NDArray[np.float64] = None\n",
    "        # n_labels\n",
    "        self.log_p_label: npt.NDArray[np.float64] = None\n",
    "\n",
    "    def fit(self, x: npt.NDArray[np.float64], y: npt.NDArray[np.bool_]) -> Self:\n",
    "        \"\"\"Given a dataset of count vectors, calculates probabilities needed for prediction.\n",
    "\n",
    "        Parameters\n",
    "        ----------\n",
    "        x : npt.NDArray[np.float64]\n",
    "            Word count matrix (n_sms x n_words).\n",
    "        y : npt.NDArray[np.bool_]\n",
    "            Label matrix (n_sms).\n",
    "        \"\"\"\n",
    "\n",
    "        # TODO: implement\n",
    "        return self\n",
    "\n",
    "    def predict(self, x: npt.NDArray[np.float64]) -> npt.NDArray[np.bool_]:\n",
    "        \"\"\"Given a dataset of count vectors, predicts labels.\n",
    "\n",
    "        Parameters\n",
    "        ----------\n",
    "        x : npt.NDArray[np.float64]\n",
    "            Word count matrix (n_sms x n_words).\n",
    "\n",
    "        Returns\n",
    "        -------\n",
    "        npt.NDArray[np.bool_]\n",
    "            Vector of predictions for labels (0 = ham, 1 = spam).\n",
    "        \"\"\"\n",
    "\n",
    "        # TODO: implement\n",
    "        pass\n",
    "\n",
    "    def accuracy(self, x: npt.NDArray[np.float64], y: npt.NDArray[np.bool_]) -> float:\n",
    "        \"\"\"Calculates accuracy for given dataset.\n",
    "\n",
    "        Parameters\n",
    "        ----------\n",
    "        x : npt.NDArray[np.float64]\n",
    "            Word count matrix (n_sms x n_words).\n",
    "        y : npt.NDArray[np.bool_]\n",
    "            Vector of true labels (0 = ham, 1 = spam).\n",
    "\n",
    "        Returns\n",
    "        -------\n",
    "        float\n",
    "            Percentage of correctly classified x.\n",
    "        \"\"\"\n",
    "\n",
    "        # TODO: implement\n",
    "        pass\n",
    "\n",
    "\n",
    "# assertions\n",
    "classifier = NaiveBayesClassifier(laplace_smoothing_constant=0.0001).fit(x, y)\n",
    "assert classifier.accuracy(x, y) > 0.99"
   ]
  },
  {
   "cell_type": "markdown",
   "id": "7c326d56",
   "metadata": {},
   "source": [
    "### Task 8\n",
    "\n",
    "Obviously we trained on the same dataset as we tested and therefore cannot quite judge the performance of the naive Bayes classifier. \n",
    "\n",
    "Split your data into 75% training- and 25% testdata. Use a seed for reproducibility."
   ]
  },
  {
   "cell_type": "code",
   "execution_count": null,
   "id": "2abbde39",
   "metadata": {},
   "outputs": [],
   "source": [
    "# TODO: provide train + testsplit\n",
    "x_train, x_test, y_train, y_test = None\n",
    "assert np.isclose(len(x_train) / len(x_test), 3, atol=0.01)"
   ]
  },
  {
   "cell_type": "markdown",
   "id": "5d23ca5e",
   "metadata": {},
   "source": [
    "### Task 9\n",
    "\n",
    "Now we systematically want to test our classifier. \n",
    "\n",
    "For different values of $\\varepsilon$ track the accuracy on train and testdata.\n",
    "Which value for $\\varepsilon$ would you recommend?"
   ]
  },
  {
   "cell_type": "code",
   "execution_count": null,
   "id": "f74023c8",
   "metadata": {},
   "outputs": [],
   "source": [
    "# TODO: report train- and test accuracy for different epsilons"
   ]
  }
 ],
 "metadata": {
  "kernelspec": {
   "display_name": "Python 3 (ipykernel)",
   "language": "python",
   "name": "python3"
  },
  "language_info": {
   "codemirror_mode": {
    "name": "ipython",
    "version": 3
   },
   "file_extension": ".py",
   "mimetype": "text/x-python",
   "name": "python",
   "nbconvert_exporter": "python",
   "pygments_lexer": "ipython3",
   "version": "3.11.4"
  }
 },
 "nbformat": 4,
 "nbformat_minor": 5
}
